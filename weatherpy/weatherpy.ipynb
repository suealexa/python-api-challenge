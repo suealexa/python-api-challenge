{
 "cells": [
  {
   "cell_type": "markdown",
   "metadata": {},
   "source": [
    "# WeatherPy\n",
    "----\n",
    "\n",
    "#### Note\n",
    "* Instructions have been included for each segment. You do not have to follow them exactly, but they are included to help you think through the steps."
   ]
  },
  {
   "cell_type": "code",
   "execution_count": 5,
   "metadata": {
    "scrolled": true
   },
   "outputs": [],
   "source": [
    "# Dependencies and Setup\n",
    "import matplotlib.pyplot as plt\n",
    "import pandas as pd\n",
    "import numpy as np\n",
    "import requests\n",
    "import time\n",
    "\n",
    "# Import API key\n",
    "from api_keys import api_key\n",
    "\n",
    "# Incorporated citipy to determine city based on latitude and longitude\n",
    "from citipy import citipy\n",
    "\n",
    "# Output File (CSV)\n",
    "output_data_file = \"output_data/cities.csv\"\n",
    "\n",
    "# Range of latitudes and longitudes\n",
    "lat_range = (-90, 90)\n",
    "lng_range = (-180, 180)"
   ]
  },
  {
   "cell_type": "markdown",
   "metadata": {},
   "source": [
    "## Generate Cities List"
   ]
  },
  {
   "cell_type": "code",
   "execution_count": 7,
   "metadata": {},
   "outputs": [
    {
     "name": "stdout",
     "output_type": "stream",
     "text": [
      "[-26.52216664 -15.7306707  -18.43491558 -31.73466294 -45.31025838] [ -40.69929005   54.80870959  175.16622455 -171.00032816  -34.34489763]\n",
      "http://api.openweathermap.org/data/2.5/weather?q=arraial%20do%20cabo&appid=07d7cfb49d3254841a44d88e77e93cf0&units=imperial\n",
      "http://api.openweathermap.org/data/2.5/weather?q=antalaha&appid=07d7cfb49d3254841a44d88e77e93cf0&units=imperial\n",
      "http://api.openweathermap.org/data/2.5/weather?q=isangel&appid=07d7cfb49d3254841a44d88e77e93cf0&units=imperial\n",
      "http://api.openweathermap.org/data/2.5/weather?q=vaini&appid=07d7cfb49d3254841a44d88e77e93cf0&units=imperial\n",
      "http://api.openweathermap.org/data/2.5/weather?q=cidreira&appid=07d7cfb49d3254841a44d88e77e93cf0&units=imperial\n"
     ]
    }
   ],
   "source": [
    "# List for holding lat_lngs and cities\n",
    "lat_lngs = []\n",
    "cities = []\n",
    "# Lists to hold data frame variables\n",
    "temp_max = []\n",
    "humidity = []\n",
    "clouds = []\n",
    "latitude = []\n",
    "longitude = []\n",
    "wind_speed = []\n",
    "city_name = []\n",
    "country = []\n",
    "\n",
    "# Create a set of random lat and lng combinations\n",
    "lats = np.random.uniform(low=-90.000, high=90.000, size=5)\n",
    "lngs = np.random.uniform(low=-180.000, high=180.000, size=5)\n",
    "lat_lngs = zip(lats, lngs)\n",
    "print(lats, lngs)\n",
    "\n",
    "# Identify nearest city for each lat, lng combination\n",
    "for lat_lng in lat_lngs:\n",
    "    city = citipy.nearest_city(lat_lng[0], lat_lng[1]).city_name\n",
    "    \n",
    "    # If the city is unique, then add it to a our cities list\n",
    "    if city not in cities:\n",
    "        cities.append(city)\n",
    "    \n",
    "        city = city.replace(' ','%20')\n",
    "        query_url = \"http://api.openweathermap.org/data/2.5/weather?q=\" + city + \"&appid=\" + api_key + \"&units=imperial\"\n",
    "        print(query_url)\n",
    "        \n",
    "        response = requests.get(f'{query_url}').json()\n",
    "        response\n",
    "\n",
    "        temp_max.append(response['main']['temp_max'])\n",
    "        temp_max\n",
    "\n",
    "        humidity.append(response['main']['humidity'])\n",
    "        humidity\n",
    "\n",
    "        clouds.append(response['clouds']['all'])\n",
    "        clouds\n",
    "\n",
    "        wind_speed.append(response['wind']['speed'])\n",
    "        wind_speed\n",
    "        \n",
    "        latitude.append(response['coord']['lat'])\n",
    "        latitude\n",
    "        \n",
    "        longitude.append(response['coord']['lon'])\n",
    "        longitude\n",
    "        \n",
    "        city_name.append(response['name'])\n",
    "        city\n",
    "        \n",
    "        country.append(response['sys']['country'])\n",
    "        country\n",
    "\n",
    "        \n",
    "        time.sleep(2.01)\n",
    "        \n",
    "# Print the city count to confirm sufficient count\n",
    "#len(cities)"
   ]
  },
  {
   "cell_type": "markdown",
   "metadata": {},
   "source": [
    "### Perform API Calls\n",
    "* Perform a weather check on each city using a series of successive API calls.\n",
    "* Include a print log of each city as it'sbeing processed (with the city number and city name).\n"
   ]
  },
  {
   "cell_type": "code",
   "execution_count": 8,
   "metadata": {
    "scrolled": true
   },
   "outputs": [
    {
     "data": {
      "text/html": [
       "<div>\n",
       "<style scoped>\n",
       "    .dataframe tbody tr th:only-of-type {\n",
       "        vertical-align: middle;\n",
       "    }\n",
       "\n",
       "    .dataframe tbody tr th {\n",
       "        vertical-align: top;\n",
       "    }\n",
       "\n",
       "    .dataframe thead th {\n",
       "        text-align: right;\n",
       "    }\n",
       "</style>\n",
       "<table border=\"1\" class=\"dataframe\">\n",
       "  <thead>\n",
       "    <tr style=\"text-align: right;\">\n",
       "      <th></th>\n",
       "      <th>Max Temperature</th>\n",
       "      <th>Humidity</th>\n",
       "      <th>Cloudiness</th>\n",
       "      <th>Wind Speed</th>\n",
       "      <th>City Name</th>\n",
       "      <th>Country</th>\n",
       "      <th>Latitude</th>\n",
       "      <th>Longitude</th>\n",
       "    </tr>\n",
       "  </thead>\n",
       "  <tbody>\n",
       "    <tr>\n",
       "      <td>0</td>\n",
       "      <td>77.00</td>\n",
       "      <td>83</td>\n",
       "      <td>20</td>\n",
       "      <td>19.46</td>\n",
       "      <td>Arraial do Cabo</td>\n",
       "      <td>BR</td>\n",
       "      <td>-22.97</td>\n",
       "      <td>-42.02</td>\n",
       "    </tr>\n",
       "    <tr>\n",
       "      <td>1</td>\n",
       "      <td>77.27</td>\n",
       "      <td>81</td>\n",
       "      <td>91</td>\n",
       "      <td>15.79</td>\n",
       "      <td>Antalaha</td>\n",
       "      <td>MG</td>\n",
       "      <td>-14.90</td>\n",
       "      <td>50.28</td>\n",
       "    </tr>\n",
       "    <tr>\n",
       "      <td>2</td>\n",
       "      <td>77.00</td>\n",
       "      <td>69</td>\n",
       "      <td>75</td>\n",
       "      <td>11.41</td>\n",
       "      <td>Isangel</td>\n",
       "      <td>VU</td>\n",
       "      <td>-19.55</td>\n",
       "      <td>169.27</td>\n",
       "    </tr>\n",
       "    <tr>\n",
       "      <td>3</td>\n",
       "      <td>65.14</td>\n",
       "      <td>90</td>\n",
       "      <td>0</td>\n",
       "      <td>1.43</td>\n",
       "      <td>Vaini</td>\n",
       "      <td>IN</td>\n",
       "      <td>15.34</td>\n",
       "      <td>74.49</td>\n",
       "    </tr>\n",
       "    <tr>\n",
       "      <td>4</td>\n",
       "      <td>70.66</td>\n",
       "      <td>93</td>\n",
       "      <td>98</td>\n",
       "      <td>6.24</td>\n",
       "      <td>Cidreira</td>\n",
       "      <td>BR</td>\n",
       "      <td>-30.17</td>\n",
       "      <td>-50.22</td>\n",
       "    </tr>\n",
       "  </tbody>\n",
       "</table>\n",
       "</div>"
      ],
      "text/plain": [
       "   Max Temperature  Humidity  Cloudiness  Wind Speed        City Name Country  \\\n",
       "0            77.00        83          20       19.46  Arraial do Cabo      BR   \n",
       "1            77.27        81          91       15.79         Antalaha      MG   \n",
       "2            77.00        69          75       11.41          Isangel      VU   \n",
       "3            65.14        90           0        1.43            Vaini      IN   \n",
       "4            70.66        93          98        6.24         Cidreira      BR   \n",
       "\n",
       "   Latitude  Longitude  \n",
       "0    -22.97     -42.02  \n",
       "1    -14.90      50.28  \n",
       "2    -19.55     169.27  \n",
       "3     15.34      74.49  \n",
       "4    -30.17     -50.22  "
      ]
     },
     "execution_count": 8,
     "metadata": {},
     "output_type": "execute_result"
    }
   ],
   "source": [
    "### Convert Raw Data to DataFrame\n",
    "weather_data = {'Max Temperature': temp_max, 'Humidity': humidity, 'Cloudiness': clouds, 'Wind Speed': wind_speed, 'City Name': city_name, 'Country': country, 'Latitude': latitude, 'Longitude': longitude}\n",
    "weather_data_df = pd.DataFrame(weather_data)\n",
    "weather_data_df.head()\n",
    "\n",
    "#* Export the city data into a .csv.\n",
    "\n",
    "#* Display the DataFrame"
   ]
  },
  {
   "cell_type": "markdown",
   "metadata": {},
   "source": [
    "### Plotting the Data\n",
    "* Use proper labeling of the plots using plot titles (including date of analysis) and axes labels.\n",
    "* Save the plotted figures as .pngs."
   ]
  },
  {
   "cell_type": "markdown",
   "metadata": {},
   "source": [
    "#### Latitude vs. Temperature Plot"
   ]
  },
  {
   "cell_type": "code",
   "execution_count": 13,
   "metadata": {},
   "outputs": [
    {
     "data": {
      "image/png": "[encoded data removed]",
      "text/plain": [
       "<Figure size 432x288 with 1 Axes>"
      ]
     },
     "metadata": {
      "needs_background": "light"
     },
     "output_type": "display_data"
    }
   ],
   "source": [
    "# Scatterplot 1\n",
    "plt.scatter(weather_data_df[\"Latitude\"], weather_data_df[\"Max Temperature\"], color = \"r\", marker=\"o\")\n",
    "\n",
    "plt.xlabel(\"Latitude\")\n",
    "plt.ylabel(\"Max Temperature (F)\")\n",
    "plt.title(\"Latitude vs. Temperature\")\n",
    "plt.grid(True)\n",
    "\n",
    "plt.show()\n",
    "#plt.savefig(\"Latitude_vs_Temperature.png\")"
   ]
  },
  {
   "cell_type": "markdown",
   "metadata": {},
   "source": [
    "#### Latitude vs. Humidity Plot"
   ]
  },
  {
   "cell_type": "code",
   "execution_count": 10,
   "metadata": {},
   "outputs": [
    {
     "data": {
      "image/png": "[encoded data removed]",
      "text/plain": [
       "<Figure size 432x288 with 1 Axes>"
      ]
     },
     "metadata": {
      "needs_background": "light"
     },
     "output_type": "display_data"
    },
    {
     "data": {
      "text/plain": [
       "<Figure size 432x288 with 0 Axes>"
      ]
     },
     "metadata": {},
     "output_type": "display_data"
    }
   ],
   "source": [
    "plt.scatter(weather_data_df[\"Latitude\"], weather_data_df[\"Max Temperature\"], color = \"g\", marker=\"o\")\n",
    "\n",
    "plt.xlabel(\"Latitude\")\n",
    "plt.ylabel(\"Max Temperature (F)\")\n",
    "plt.title(\"Latitude vs. Temperature\")\n",
    "plt.grid(True)\n",
    "\n",
    "plt.show()\n",
    "plt.savefig(\"lat_vs_hum.png\")"
   ]
  },
  {
   "cell_type": "markdown",
   "metadata": {},
   "source": [
    "#### Latitude vs. Cloudiness Plot"
   ]
  },
  {
   "cell_type": "code",
   "execution_count": 11,
   "metadata": {},
   "outputs": [
    {
     "data": {
      "image/png": "[encoded data removed]",
      "text/plain": [
       "<Figure size 432x288 with 1 Axes>"
      ]
     },
     "metadata": {
      "needs_background": "light"
     },
     "output_type": "display_data"
    },
    {
     "data": {
      "text/plain": [
       "<Figure size 432x288 with 0 Axes>"
      ]
     },
     "metadata": {},
     "output_type": "display_data"
    }
   ],
   "source": [
    "plt.scatter(weather_data_df[\"Latitude\"], weather_data_df[\"Cloudiness\"], color = \"y\", marker=\"o\")\n",
    "\n",
    "plt.xlabel(\"Latitude\")\n",
    "plt.ylabel(\"Cloudiness\")\n",
    "plt.title(\"Latitude vs. Cloudiness\")\n",
    "plt.grid(True)\n",
    "\n",
    "plt.show()\n",
    "plt.savefig(\"lat_vs_cloud.png\")"
   ]
  },
  {
   "cell_type": "markdown",
   "metadata": {},
   "source": [
    "#### Latitude vs. Wind Speed Plot"
   ]
  },
  {
   "cell_type": "code",
   "execution_count": 12,
   "metadata": {},
   "outputs": [
    {
     "data": {
      "image/png": "[encoded data removed]",
      "text/plain": [
       "<Figure size 432x288 with 1 Axes>"
      ]
     },
     "metadata": {
      "needs_background": "light"
     },
     "output_type": "display_data"
    },
    {
     "data": {
      "text/plain": [
       "<Figure size 432x288 with 0 Axes>"
      ]
     },
     "metadata": {},
     "output_type": "display_data"
    }
   ],
   "source": [
    "plt.scatter(weather_data_df[\"Latitude\"], weather_data_df[\"Wind Speed\"], color = \"b\", marker=\"o\")\n",
    "\n",
    "plt.xlabel(\"Latitude\")\n",
    "plt.ylabel(\"Wind Speed\")\n",
    "plt.title(\"Latitude vs. Wind Speed\")\n",
    "plt.grid(True)\n",
    "\n",
    "plt.show()\n",
    "plt.savefig(\"lat_vs_wind.png\")"
   ]
  },
  {
   "cell_type": "code",
   "execution_count": null,
   "metadata": {},
   "outputs": [],
   "source": []
  }
 ],
 "metadata": {
  "anaconda-cloud": {},
  "kernel_info": {
   "name": "python3"
  },
  "kernelspec": {
   "display_name": "Python 3",
   "language": "python",
   "name": "python3"
  },
  "language_info": {
   "codemirror_mode": {
    "name": "ipython",
    "version": 3
   },
   "file_extension": ".py",
   "mimetype": "text/x-python",
   "name": "python",
   "nbconvert_exporter": "python",
   "pygments_lexer": "ipython3",
   "version": "3.6.9"
  },
  "nteract": {
   "version": "0.12.3"
  }
 },
 "nbformat": 4,
 "nbformat_minor": 2
}
