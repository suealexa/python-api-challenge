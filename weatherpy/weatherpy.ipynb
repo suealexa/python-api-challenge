{
 "cells": [
  {
   "cell_type": "markdown",
   "metadata": {},
   "source": [
    "# WeatherPy\n",
    "----\n",
    "\n",
    "#### Note\n",
    "* Instructions have been included for each segment. You do not have to follow them exactly, but they are included to help you think through the steps."
   ]
  },
  {
   "cell_type": "code",
   "execution_count": 2,
   "metadata": {
    "scrolled": true
   },
   "outputs": [
    {
     "name": "stdout",
     "output_type": "stream",
     "text": [
      "07d7cfb49d3254841a44d88e77e93cf0\n"
     ]
    }
   ],
   "source": [
    "# Dependencies and Setup\n",
    "import matplotlib.pyplot as plt\n",
    "import pandas as pd\n",
    "import numpy as np\n",
    "import requests\n",
    "import time\n",
    "\n",
    "# Import API key\n",
    "from api_keys import api_key\n",
    "print(api_key)\n",
    "\n",
    "\n",
    "# Incorporated citipy to determine city based on latitude and longitude\n",
    "from citipy import citipy\n",
    "\n",
    "# Output File (CSV)\n",
    "output_data_file = \"output_data/cities.csv\"\n",
    "\n",
    "# Range of latitudes and longitudes\n",
    "lat_range = (-90, 90)\n",
    "lng_range = (-180, 180)"
   ]
  },
  {
   "cell_type": "markdown",
   "metadata": {},
   "source": [
    "## Generate Cities List"
   ]
  },
  {
   "cell_type": "code",
   "execution_count": 3,
   "metadata": {},
   "outputs": [
    {
     "name": "stdout",
     "output_type": "stream",
     "text": [
      "[-84.30116559 -38.81381771  54.67310422 -45.65949196  80.29374937] [-101.45720877  -87.56236405   87.14008361  -87.87578604  -64.57838359]\n",
      "http://api.openweathermap.org/data/2.5/weather?q=punta%20arenas&appid=07d7cfb49d3254841a44d88e77e93cf0&units=imperial\n",
      "city= punta%20arenas, city ID = [3874787]\n",
      "punta%20arenas\n",
      "http://api.openweathermap.org/data/2.5/weather?q=lebu&appid=07d7cfb49d3254841a44d88e77e93cf0&units=imperial\n",
      "city= lebu, city ID = [3874787, 344979]\n",
      "lebu\n",
      "http://api.openweathermap.org/data/2.5/weather?q=zelenogorskiy&appid=07d7cfb49d3254841a44d88e77e93cf0&units=imperial\n",
      "city= zelenogorskiy, city ID = [3874787, 344979, 1485284]\n",
      "zelenogorskiy\n",
      "http://api.openweathermap.org/data/2.5/weather?q=castro&appid=07d7cfb49d3254841a44d88e77e93cf0&units=imperial\n",
      "city= castro, city ID = [3874787, 344979, 1485284, 3896218]\n",
      "castro\n",
      "http://api.openweathermap.org/data/2.5/weather?q=narsaq&appid=07d7cfb49d3254841a44d88e77e93cf0&units=imperial\n",
      "city= narsaq, city ID = [3874787, 344979, 1485284, 3896218, 3421719]\n",
      "narsaq\n"
     ]
    }
   ],
   "source": [
    "# List for holding lat_lngs and cities\n",
    "lat_lngs = []\n",
    "cities = []\n",
    "# Lists to hold data frame variables\n",
    "temp = []\n",
    "humidity = []\n",
    "clouds = []\n",
    "latitude = []\n",
    "wind_speed = []\n",
    "city_name = []\n",
    "city_id = []\n",
    "\n",
    "# Create a set of random lat and lng combinations\n",
    "lats = np.random.uniform(low=-90.000, high=90.000, size=5)\n",
    "lngs = np.random.uniform(low=-180.000, high=180.000, size=5)\n",
    "lat_lngs = zip(lats, lngs)\n",
    "print(lats, lngs)\n",
    "\n",
    "# Identify nearest city for each lat, lng combination\n",
    "for lat_lng in lat_lngs:\n",
    "    city = citipy.nearest_city(lat_lng[0], lat_lng[1]).city_name\n",
    "    \n",
    "    # If the city is unique, then add it to a our cities list\n",
    "    if city not in cities:\n",
    "        cities.append(city)\n",
    "    \n",
    "        city = city.replace(' ','%20')\n",
    "        query_url = \"http://api.openweathermap.org/data/2.5/weather?q=\" + city + \"&appid=\" + api_key + \"&units=imperial\"\n",
    "        print(query_url)\n",
    "        \n",
    "        response = requests.get(f'{query_url}').json()\n",
    "        response\n",
    "\n",
    "        temp.append(response['main']['temp'])\n",
    "        temp\n",
    "\n",
    "        humidity.append(response['main']['humidity'])\n",
    "        humidity\n",
    "\n",
    "        clouds.append(response['clouds']['all'])\n",
    "        clouds\n",
    "\n",
    "        wind_speed.append(response['wind']['speed'])\n",
    "        wind_speed\n",
    "        \n",
    "        latitude.append(response['coord']['lat'])\n",
    "        latitude\n",
    "        \n",
    "        city_id.append(response['id'])\n",
    "        city_id\n",
    "        \n",
    "        city_name.append(response['name'])\n",
    "        city\n",
    "\n",
    "        print(f'city= {city}, city ID = {city_id}')\n",
    "        print(city)\n",
    "        \n",
    "        time.sleep(2.01)\n",
    "        \n",
    "# Print the city count to confirm sufficient count\n",
    "#len(cities)"
   ]
  },
  {
   "cell_type": "markdown",
   "metadata": {},
   "source": [
    "### Perform API Calls\n",
    "* Perform a weather check on each city using a series of successive API calls.\n",
    "* Include a print log of each city as it'sbeing processed (with the city number and city name).\n"
   ]
  },
  {
   "cell_type": "code",
   "execution_count": 4,
   "metadata": {
    "scrolled": true
   },
   "outputs": [
    {
     "data": {
      "text/html": [
       "<div>\n",
       "<style scoped>\n",
       "    .dataframe tbody tr th:only-of-type {\n",
       "        vertical-align: middle;\n",
       "    }\n",
       "\n",
       "    .dataframe tbody tr th {\n",
       "        vertical-align: top;\n",
       "    }\n",
       "\n",
       "    .dataframe thead th {\n",
       "        text-align: right;\n",
       "    }\n",
       "</style>\n",
       "<table border=\"1\" class=\"dataframe\">\n",
       "  <thead>\n",
       "    <tr style=\"text-align: right;\">\n",
       "      <th></th>\n",
       "      <th>Temperature</th>\n",
       "      <th>Humidity</th>\n",
       "      <th>Cloudiness</th>\n",
       "      <th>Wind Speed</th>\n",
       "      <th>City Name</th>\n",
       "      <th>City ID</th>\n",
       "      <th>Latitude</th>\n",
       "    </tr>\n",
       "  </thead>\n",
       "  <tbody>\n",
       "    <tr>\n",
       "      <td>0</td>\n",
       "      <td>43.12</td>\n",
       "      <td>75</td>\n",
       "      <td>75</td>\n",
       "      <td>11.41</td>\n",
       "      <td>Punta Arenas</td>\n",
       "      <td>3874787</td>\n",
       "      <td>-53.16</td>\n",
       "    </tr>\n",
       "    <tr>\n",
       "      <td>1</td>\n",
       "      <td>71.60</td>\n",
       "      <td>33</td>\n",
       "      <td>20</td>\n",
       "      <td>13.87</td>\n",
       "      <td>Lebu</td>\n",
       "      <td>344979</td>\n",
       "      <td>8.96</td>\n",
       "    </tr>\n",
       "    <tr>\n",
       "      <td>2</td>\n",
       "      <td>33.80</td>\n",
       "      <td>74</td>\n",
       "      <td>40</td>\n",
       "      <td>6.71</td>\n",
       "      <td>Zelenogorskiy</td>\n",
       "      <td>1485284</td>\n",
       "      <td>55.03</td>\n",
       "    </tr>\n",
       "    <tr>\n",
       "      <td>3</td>\n",
       "      <td>48.20</td>\n",
       "      <td>81</td>\n",
       "      <td>75</td>\n",
       "      <td>9.17</td>\n",
       "      <td>Castro</td>\n",
       "      <td>3896218</td>\n",
       "      <td>-42.48</td>\n",
       "    </tr>\n",
       "    <tr>\n",
       "      <td>4</td>\n",
       "      <td>32.00</td>\n",
       "      <td>61</td>\n",
       "      <td>75</td>\n",
       "      <td>3.36</td>\n",
       "      <td>Narsaq</td>\n",
       "      <td>3421719</td>\n",
       "      <td>60.91</td>\n",
       "    </tr>\n",
       "  </tbody>\n",
       "</table>\n",
       "</div>"
      ],
      "text/plain": [
       "   Temperature  Humidity  Cloudiness  Wind Speed      City Name  City ID  \\\n",
       "0        43.12        75          75       11.41   Punta Arenas  3874787   \n",
       "1        71.60        33          20       13.87           Lebu   344979   \n",
       "2        33.80        74          40        6.71  Zelenogorskiy  1485284   \n",
       "3        48.20        81          75        9.17         Castro  3896218   \n",
       "4        32.00        61          75        3.36         Narsaq  3421719   \n",
       "\n",
       "   Latitude  \n",
       "0    -53.16  \n",
       "1      8.96  \n",
       "2     55.03  \n",
       "3    -42.48  \n",
       "4     60.91  "
      ]
     },
     "execution_count": 4,
     "metadata": {},
     "output_type": "execute_result"
    }
   ],
   "source": [
    "### Convert Raw Data to DataFrame\n",
    "weather_data = {'Temperature': temp, 'Humidity': humidity, 'Cloudiness': clouds, 'Wind Speed': wind_speed, 'City Name': city_name, 'City ID': city_id, 'Latitude': latitude}\n",
    "weather_data_df = pd.DataFrame(weather_data)\n",
    "weather_data_df.head()\n",
    "\n",
    "#* Export the city data into a .csv.\n",
    "\n",
    "#* Display the DataFrame"
   ]
  },
  {
   "cell_type": "markdown",
   "metadata": {},
   "source": [
    "### Plotting the Data\n",
    "* Use proper labeling of the plots using plot titles (including date of analysis) and axes labels.\n",
    "* Save the plotted figures as .pngs."
   ]
  },
  {
   "cell_type": "markdown",
   "metadata": {},
   "source": [
    "#### Latitude vs. Temperature Plot"
   ]
  },
  {
   "cell_type": "code",
   "execution_count": 24,
   "metadata": {},
   "outputs": [
    {
     "name": "stderr",
     "output_type": "stream",
     "text": [
      "No handles with labels found to put in legend.\n"
     ]
    },
    {
     "data": {
      "image/png": "[encoded data removed]",
      "text/plain": [
       "<Figure size 432x288 with 1 Axes>"
      ]
     },
     "metadata": {
      "needs_background": "light"
     },
     "output_type": "display_data"
    },
    {
     "data": {
      "text/plain": [
       "<Figure size 432x288 with 0 Axes>"
      ]
     },
     "metadata": {},
     "output_type": "display_data"
    }
   ],
   "source": [
    "# Scatterplot 1\n",
    "plt.scatter(weather_data_df[\"Latitude\"], weather_data_df[\"Temperature\"], color = \"r\", marker=\"o\")\n",
    "\n",
    "plt.xlabel = (\"Latitude\")\n",
    "plt.ylabel = (\"Temperature (F)\")\n",
    "plt.title = (\"Latitude vs. Temperature on 10/30\")\n",
    "plt.legend(loc='upper left')\n",
    "\n",
    "plt.show()\n",
    "plt.savefig(\"lat_vs_temp.png\")"
   ]
  },
  {
   "cell_type": "markdown",
   "metadata": {},
   "source": [
    "#### Latitude vs. Humidity Plot"
   ]
  },
  {
   "cell_type": "code",
   "execution_count": 25,
   "metadata": {},
   "outputs": [
    {
     "name": "stderr",
     "output_type": "stream",
     "text": [
      "No handles with labels found to put in legend.\n"
     ]
    },
    {
     "data": {
      "image/png": "[encoded data removed]",
      "text/plain": [
       "<Figure size 432x288 with 1 Axes>"
      ]
     },
     "metadata": {
      "needs_background": "light"
     },
     "output_type": "display_data"
    },
    {
     "data": {
      "text/plain": [
       "<Figure size 432x288 with 0 Axes>"
      ]
     },
     "metadata": {},
     "output_type": "display_data"
    }
   ],
   "source": [
    "plt.scatter(weather_data_df[\"Latitude\"], weather_data_df[\"Temperature\"], color = \"g\", marker=\"o\")\n",
    "\n",
    "plt.xlabel = (\"Latitude\")\n",
    "plt.ylabel = (\"Temperature (F)\")\n",
    "plt.title = (\"Latitude vs. Temperature on 10/30\")\n",
    "plt.legend(loc='upper left')\n",
    "\n",
    "plt.show()\n",
    "plt.savefig(\"lat_vs_hum.png\")"
   ]
  },
  {
   "cell_type": "markdown",
   "metadata": {},
   "source": [
    "#### Latitude vs. Cloudiness Plot"
   ]
  },
  {
   "cell_type": "code",
   "execution_count": 17,
   "metadata": {},
   "outputs": [
    {
     "data": {
      "image/png": "[encoded data removed]",
      "text/plain": [
       "<Figure size 432x288 with 1 Axes>"
      ]
     },
     "metadata": {
      "needs_background": "light"
     },
     "output_type": "display_data"
    },
    {
     "data": {
      "text/plain": [
       "<Figure size 432x288 with 0 Axes>"
      ]
     },
     "metadata": {},
     "output_type": "display_data"
    }
   ],
   "source": [
    "plt.scatter(weather_data_df[\"Latitude\"], weather_data_df[\"Cloudiness\"], color = \"y\", marker=\"o\")\n",
    "\n",
    "plt.xlabel = (\"Latitude\")\n",
    "plt.ylabel = (\"Cloudiness\")\n",
    "plt.title = (\"Latitude vs. Cloudiness on 10/30\")\n",
    "plt.grid(True)\n",
    "\n",
    "plt.show()\n",
    "plt.savefig(\"lat_vs_cloud.png\")"
   ]
  },
  {
   "cell_type": "markdown",
   "metadata": {},
   "source": [
    "#### Latitude vs. Wind Speed Plot"
   ]
  },
  {
   "cell_type": "code",
   "execution_count": 16,
   "metadata": {},
   "outputs": [
    {
     "data": {
      "image/png": "[encoded data removed]",
      "text/plain": [
       "<Figure size 432x288 with 1 Axes>"
      ]
     },
     "metadata": {
      "needs_background": "light"
     },
     "output_type": "display_data"
    },
    {
     "data": {
      "text/plain": [
       "<Figure size 432x288 with 0 Axes>"
      ]
     },
     "metadata": {},
     "output_type": "display_data"
    }
   ],
   "source": [
    "plt.scatter(weather_data_df[\"Latitude\"], weather_data_df[\"Wind Speed\"], color = \"b\", marker=\"o\")\n",
    "\n",
    "plt.xlabel = (\"Latitude\")\n",
    "plt.ylabel = (\"Wind Speed\")\n",
    "plt.title = (\"Latitude vs. Wind Speed on 10/30\")\n",
    "\n",
    "plt.show()\n",
    "plt.savefig(\"lat_vs_wind.png\")"
   ]
  },
  {
   "cell_type": "code",
   "execution_count": null,
   "metadata": {},
   "outputs": [],
   "source": []
  }
 ],
 "metadata": {
  "anaconda-cloud": {},
  "kernel_info": {
   "name": "python3"
  },
  "kernelspec": {
   "display_name": "Python 3",
   "language": "python",
   "name": "python3"
  },
  "language_info": {
   "codemirror_mode": {
    "name": "ipython",
    "version": 3
   },
   "file_extension": ".py",
   "mimetype": "text/x-python",
   "name": "python",
   "nbconvert_exporter": "python",
   "pygments_lexer": "ipython3",
   "version": "3.6.9"
  },
  "nteract": {
   "version": "0.12.3"
  }
 },
 "nbformat": 4,
 "nbformat_minor": 2
}
