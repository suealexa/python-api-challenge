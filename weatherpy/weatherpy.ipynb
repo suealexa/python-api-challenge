{
 "cells": [
  {
   "cell_type": "markdown",
   "metadata": {},
   "source": [
    "# WeatherPy\n",
    "----\n",
    "\n",
    "#### Note\n",
    "* Instructions have been included for each segment. You do not have to follow them exactly, but they are included to help you think through the steps."
   ]
  },
  {
   "cell_type": "code",
   "execution_count": 1,
   "metadata": {
    "scrolled": true
   },
   "outputs": [
    {
     "name": "stdout",
     "output_type": "stream",
     "text": [
      "07d7cfb49d3254841a44d88e77e93cf0\n"
     ]
    }
   ],
   "source": [
    "# Dependencies and Setup\n",
    "import matplotlib.pyplot as plt\n",
    "import pandas as pd\n",
    "import numpy as np\n",
    "import requests\n",
    "import time\n",
    "\n",
    "# Import API key\n",
    "from api_keys import api_key\n",
    "print(api_key)\n",
    "\n",
    "\n",
    "# Incorporated citipy to determine city based on latitude and longitude\n",
    "from citipy import citipy\n",
    "\n",
    "# Output File (CSV)\n",
    "output_data_file = \"output_data/cities.csv\"\n",
    "\n",
    "# Range of latitudes and longitudes\n",
    "lat_range = (-90, 90)\n",
    "lng_range = (-180, 180)"
   ]
  },
  {
   "cell_type": "markdown",
   "metadata": {},
   "source": [
    "## Generate Cities List"
   ]
  },
  {
   "cell_type": "code",
   "execution_count": 3,
   "metadata": {},
   "outputs": [
    {
     "name": "stdout",
     "output_type": "stream",
     "text": [
      "[ 18.05881916  43.65869706 -41.58767911 -58.11484067  51.75959322] [-127.84588343  -22.90273947   57.78105355 -145.35711352 -145.14288063]\n",
      "http://api.openweathermap.org/data/2.5/weather?q=guerrero%20negro&appid=07d7cfb49d3254841a44d88e77e93cf0&units=imperial\n",
      "city= guerrero%20negro, city ID = [4021858]\n",
      "guerrero%20negro\n",
      "http://api.openweathermap.org/data/2.5/weather?q=rabo%20de%20peixe&appid=07d7cfb49d3254841a44d88e77e93cf0&units=imperial\n",
      "city= rabo%20de%20peixe, city ID = [4021858, 3372745]\n",
      "rabo%20de%20peixe\n",
      "http://api.openweathermap.org/data/2.5/weather?q=taolanaro&appid=07d7cfb49d3254841a44d88e77e93cf0&units=imperial\n"
     ]
    },
    {
     "ename": "KeyError",
     "evalue": "'main'",
     "output_type": "error",
     "traceback": [
      "\u001b[1;31m---------------------------------------------------------------------------\u001b[0m",
      "\u001b[1;31mKeyError\u001b[0m                                  Traceback (most recent call last)",
      "\u001b[1;32m<ipython-input-3-eda682f749d9>\u001b[0m in \u001b[0;36m<module>\u001b[1;34m\u001b[0m\n\u001b[0;32m     33\u001b[0m         \u001b[0mresponse\u001b[0m\u001b[1;33m\u001b[0m\u001b[1;33m\u001b[0m\u001b[0m\n\u001b[0;32m     34\u001b[0m \u001b[1;33m\u001b[0m\u001b[0m\n\u001b[1;32m---> 35\u001b[1;33m         \u001b[0mtemp\u001b[0m\u001b[1;33m.\u001b[0m\u001b[0mappend\u001b[0m\u001b[1;33m(\u001b[0m\u001b[0mresponse\u001b[0m\u001b[1;33m[\u001b[0m\u001b[1;34m'main'\u001b[0m\u001b[1;33m]\u001b[0m\u001b[1;33m[\u001b[0m\u001b[1;34m'temp'\u001b[0m\u001b[1;33m]\u001b[0m\u001b[1;33m)\u001b[0m\u001b[1;33m\u001b[0m\u001b[1;33m\u001b[0m\u001b[0m\n\u001b[0m\u001b[0;32m     36\u001b[0m         \u001b[0mtemp\u001b[0m\u001b[1;33m\u001b[0m\u001b[1;33m\u001b[0m\u001b[0m\n\u001b[0;32m     37\u001b[0m \u001b[1;33m\u001b[0m\u001b[0m\n",
      "\u001b[1;31mKeyError\u001b[0m: 'main'"
     ]
    }
   ],
   "source": [
    "# List for holding lat_lngs and cities\n",
    "lat_lngs = []\n",
    "cities = []\n",
    "#Create lists to hold data frame variables\n",
    "temp = []\n",
    "humidity = []\n",
    "city_name = []\n",
    "clouds = []\n",
    "country = []\n",
    "latitude = []\n",
    "wind_speed = []\n",
    "city_id = []\n",
    "\n",
    "# Create a set of random lat and lng combinations\n",
    "lats = np.random.uniform(low=-90.000, high=90.000, size=5)\n",
    "lngs = np.random.uniform(low=-180.000, high=180.000, size=5)\n",
    "lat_lngs = zip(lats, lngs)\n",
    "print(lats, lngs)\n",
    "\n",
    "# Identify nearest city for each lat, lng combination\n",
    "for lat_lng in lat_lngs:\n",
    "    city = citipy.nearest_city(lat_lng[0], lat_lng[1]).city_name\n",
    "    \n",
    "    # If the city is unique, then add it to a our cities list\n",
    "    if city not in cities:\n",
    "        cities.append(city)\n",
    "    \n",
    "        city = city.replace(' ','%20')\n",
    "        query_url = \"http://api.openweathermap.org/data/2.5/weather?q=\" + city + \"&appid=\" + api_key + \"&units=imperial\"\n",
    "        print(query_url)\n",
    "        \n",
    "        response = requests.get(f'{query_url}').json()\n",
    "        response\n",
    "\n",
    "        temp.append(response['main']['temp'])\n",
    "        temp\n",
    "\n",
    "        humidity.append(response['main']['humidity'])\n",
    "        humidity\n",
    "\n",
    "        clouds.append(response['clouds']['all'])\n",
    "        clouds\n",
    "\n",
    "        wind_speed.append(response['wind']['speed'])\n",
    "        wind_speed\n",
    "        \n",
    "        latitude.append(response['coord']['lat'])\n",
    "        latitude\n",
    "        \n",
    "        city_name.append(response['name'])\n",
    "        city\n",
    "\n",
    "        city_id.append(response['id'])\n",
    "        city_id\n",
    "\n",
    "        print(f'city= {city}, city ID = {city_id}')\n",
    "        print(city)\n",
    "        \n",
    "        time.sleep(1.01)\n",
    "        \n",
    "# Print the city count to confirm sufficient count\n",
    "len(cities)"
   ]
  },
  {
   "cell_type": "markdown",
   "metadata": {},
   "source": [
    "### Perform API Calls\n",
    "* Perform a weather check on each city using a series of successive API calls.\n",
    "* Include a print log of each city as it'sbeing processed (with the city number and city name).\n"
   ]
  },
  {
   "cell_type": "code",
   "execution_count": null,
   "metadata": {},
   "outputs": [],
   "source": [
    "\n"
   ]
  },
  {
   "cell_type": "code",
   "execution_count": 9,
   "metadata": {},
   "outputs": [
    {
     "data": {
      "text/html": [
       "<div>\n",
       "<style scoped>\n",
       "    .dataframe tbody tr th:only-of-type {\n",
       "        vertical-align: middle;\n",
       "    }\n",
       "\n",
       "    .dataframe tbody tr th {\n",
       "        vertical-align: top;\n",
       "    }\n",
       "\n",
       "    .dataframe thead th {\n",
       "        text-align: right;\n",
       "    }\n",
       "</style>\n",
       "<table border=\"1\" class=\"dataframe\">\n",
       "  <thead>\n",
       "    <tr style=\"text-align: right;\">\n",
       "      <th></th>\n",
       "      <th>Temperature</th>\n",
       "      <th>Humidity</th>\n",
       "      <th>Cloudiness</th>\n",
       "      <th>Wind Speed</th>\n",
       "      <th>city</th>\n",
       "      <th>city ID</th>\n",
       "      <th>Latitude</th>\n",
       "    </tr>\n",
       "  </thead>\n",
       "  <tbody>\n",
       "    <tr>\n",
       "      <td>0</td>\n",
       "      <td>63.79</td>\n",
       "      <td>79</td>\n",
       "      <td>69</td>\n",
       "      <td>13.69</td>\n",
       "      <td>taolanaro</td>\n",
       "      <td>4021858</td>\n",
       "      <td>27.97</td>\n",
       "    </tr>\n",
       "    <tr>\n",
       "      <td>1</td>\n",
       "      <td>69.80</td>\n",
       "      <td>94</td>\n",
       "      <td>20</td>\n",
       "      <td>10.29</td>\n",
       "      <td>taolanaro</td>\n",
       "      <td>3372745</td>\n",
       "      <td>37.80</td>\n",
       "    </tr>\n",
       "  </tbody>\n",
       "</table>\n",
       "</div>"
      ],
      "text/plain": [
       "   Temperature  Humidity  Cloudiness  Wind Speed       city  city ID  Latitude\n",
       "0        63.79        79          69       13.69  taolanaro  4021858     27.97\n",
       "1        69.80        94          20       10.29  taolanaro  3372745     37.80"
      ]
     },
     "execution_count": 9,
     "metadata": {},
     "output_type": "execute_result"
    }
   ],
   "source": [
    "### Convert Raw Data to DataFrame\n",
    "weather_data = {'Temperature': temp, 'Humidity': humidity, 'Cloudiness': clouds, 'Wind Speed': wind_speed, 'city': city, 'city ID': city_id, 'Latitude': latitude}\n",
    "weather_data_df = pd.DataFrame(weather_data)\n",
    "weather_data_df.head()\n",
    "\n",
    "\n",
    "\n",
    "#* Export the city data into a .csv.\n",
    "#* Display the DataFrame"
   ]
  },
  {
   "cell_type": "code",
   "execution_count": null,
   "metadata": {},
   "outputs": [],
   "source": []
  },
  {
   "cell_type": "markdown",
   "metadata": {},
   "source": [
    "### Plotting the Data\n",
    "* Use proper labeling of the plots using plot titles (including date of analysis) and axes labels.\n",
    "* Save the plotted figures as .pngs."
   ]
  },
  {
   "cell_type": "markdown",
   "metadata": {},
   "source": [
    "#### Latitude vs. Temperature Plot"
   ]
  },
  {
   "cell_type": "code",
   "execution_count": 10,
   "metadata": {},
   "outputs": [
    {
     "data": {
      "image/png": "[encoded data removed]",
      "text/plain": [
       "<Figure size 432x288 with 1 Axes>"
      ]
     },
     "metadata": {
      "needs_background": "light"
     },
     "output_type": "display_data"
    }
   ],
   "source": [
    "# Fixing random state for reproducibility\n",
    "plt.scatter(weather_data_df[\"Latitude\"], weather_data_df[\"Temperature\"], color = \"r\", marker=\"o\", s=10)\n",
    "\n",
    "plt.xlabel = (\"Latitude\")\n",
    "plt.ylabel = (\"Temperature (F)\")\n",
    "plt.title = (\"Latitude vs. Temperature\")\n",
    "\n",
    "plt.show()"
   ]
  },
  {
   "cell_type": "markdown",
   "metadata": {},
   "source": [
    "#### Latitude vs. Humidity Plot"
   ]
  },
  {
   "cell_type": "code",
   "execution_count": 11,
   "metadata": {},
   "outputs": [
    {
     "data": {
      "image/png": "[encoded data removed]",
      "text/plain": [
       "<Figure size 432x288 with 1 Axes>"
      ]
     },
     "metadata": {
      "needs_background": "light"
     },
     "output_type": "display_data"
    }
   ],
   "source": [
    "plt.scatter(weather_data_df[\"Latitude\"], weather_data_df[\"Temperature\"], color = \"g\", marker=\"o\", s=10)\n",
    "\n",
    "plt.xlabel = (\"Latitude\")\n",
    "plt.ylabel = (\"Temperature (F)\")\n",
    "plt.title = (\"Latitude vs. Temperature\")\n",
    "\n",
    "plt.show()"
   ]
  },
  {
   "cell_type": "markdown",
   "metadata": {},
   "source": [
    "#### Latitude vs. Cloudiness Plot"
   ]
  },
  {
   "cell_type": "code",
   "execution_count": 12,
   "metadata": {},
   "outputs": [
    {
     "data": {
      "image/png": "[encoded data removed]",
      "text/plain": [
       "<Figure size 432x288 with 1 Axes>"
      ]
     },
     "metadata": {
      "needs_background": "light"
     },
     "output_type": "display_data"
    }
   ],
   "source": [
    "plt.scatter(weather_data_df[\"Latitude\"], weather_data_df[\"Temperature\"], color = \"y\", marker=\"o\", s=10)\n",
    "\n",
    "plt.xlabel = (\"Latitude\")\n",
    "plt.ylabel = (\"Temperature (F)\")\n",
    "plt.title = (\"Latitude vs. Temperature\")\n",
    "\n",
    "plt.show()"
   ]
  },
  {
   "cell_type": "markdown",
   "metadata": {},
   "source": [
    "#### Latitude vs. Wind Speed Plot"
   ]
  },
  {
   "cell_type": "code",
   "execution_count": 13,
   "metadata": {},
   "outputs": [
    {
     "data": {
      "image/png": "[encoded data removed]",
      "text/plain": [
       "<Figure size 432x288 with 1 Axes>"
      ]
     },
     "metadata": {
      "needs_background": "light"
     },
     "output_type": "display_data"
    }
   ],
   "source": [
    "plt.scatter(weather_data_df[\"Latitude\"], weather_data_df[\"Wind Speed\"], color = \"b\", marker=\"o\", s=10)\n",
    "\n",
    "plt.xlabel = (\"Latitude\")\n",
    "plt.ylabel = (\"Wind Speed\")\n",
    "plt.title = (\"Latitude vs. Wind Speed\")\n",
    "\n",
    "plt.show()"
   ]
  },
  {
   "cell_type": "code",
   "execution_count": null,
   "metadata": {},
   "outputs": [],
   "source": []
  }
 ],
 "metadata": {
  "anaconda-cloud": {},
  "kernel_info": {
   "name": "python3"
  },
  "kernelspec": {
   "display_name": "Python 3",
   "language": "python",
   "name": "python3"
  },
  "language_info": {
   "codemirror_mode": {
    "name": "ipython",
    "version": 3
   },
   "file_extension": ".py",
   "mimetype": "text/x-python",
   "name": "python",
   "nbconvert_exporter": "python",
   "pygments_lexer": "ipython3",
   "version": "3.6.9"
  },
  "nteract": {
   "version": "0.12.3"
  }
 },
 "nbformat": 4,
 "nbformat_minor": 2
}
