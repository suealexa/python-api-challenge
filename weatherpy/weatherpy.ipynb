{
 "cells": [
  {
   "cell_type": "markdown",
   "metadata": {},
   "source": [
    "# WeatherPy\n",
    "----\n",
    "\n",
    "#### Note\n",
    "* Instructions have been included for each segment. You do not have to follow them exactly, but they are included to help you think through the steps."
   ]
  },
  {
   "cell_type": "code",
   "execution_count": 1,
   "metadata": {
    "scrolled": true
   },
   "outputs": [],
   "source": [
    "# Dependencies and Setup\n",
    "import matplotlib.pyplot as plt\n",
    "import pandas as pd\n",
    "import numpy as np\n",
    "import requests\n",
    "import time\n",
    "\n",
    "# Import API key\n",
    "from api_keys import api_key\n",
    "\n",
    "# Incorporated citipy to determine city based on latitude and longitude\n",
    "from citipy import citipy\n",
    "\n",
    "# Output File (CSV)\n",
    "output_data_file = \"output_data/cities.csv\"\n",
    "\n",
    "# Range of latitudes and longitudes\n",
    "lat_range = (-90, 90)\n",
    "lng_range = (-180, 180)"
   ]
  },
  {
   "cell_type": "markdown",
   "metadata": {},
   "source": [
    "## Generate Cities List"
   ]
  },
  {
   "cell_type": "code",
   "execution_count": 31,
   "metadata": {},
   "outputs": [
    {
     "name": "stdout",
     "output_type": "stream",
     "text": [
      "This location is not a city.\n",
      "This location is not a city.\n",
      "This location is not a city.\n",
      "This location is not a city.\n",
      "This location is not a city.\n",
      "This location is not a city.\n",
      "This location is not a city.\n",
      "This location is not a city.\n",
      "This location is not a city.\n",
      "This location is not a city.\n",
      "This location is not a city.\n",
      "This location is not a city.\n",
      "This location is not a city.\n",
      "This location is not a city.\n",
      "This location is not a city.\n",
      "This location is not a city.\n",
      "This location is not a city.\n",
      "This location is not a city.\n",
      "This location is not a city.\n",
      "This location is not a city.\n",
      "This location is not a city.\n",
      "This location is not a city.\n",
      "This location is not a city.\n",
      "This location is not a city.\n",
      "This location is not a city.\n",
      "This location is not a city.\n",
      "This location is not a city.\n",
      "This location is not a city.\n",
      "This location is not a city.\n",
      "This location is not a city.\n",
      "This location is not a city.\n",
      "This location is not a city.\n"
     ]
    },
    {
     "data": {
      "text/plain": [
       "344"
      ]
     },
     "execution_count": 31,
     "metadata": {},
     "output_type": "execute_result"
    }
   ],
   "source": [
    "# List for holding lat_lngs and cities\n",
    "lat_lngs = []\n",
    "cities = []\n",
    "\n",
    "# Lists to hold data frame variables\n",
    "temp_max = []\n",
    "humidity = []\n",
    "clouds = []\n",
    "latitude = []\n",
    "longitude = []\n",
    "wind_speed = []\n",
    "city_name = []\n",
    "country = []\n",
    "\n",
    "# Create a set of random lat and lng combinations\n",
    "lats = np.random.uniform(low=-90.000, high=90.000, size=650)\n",
    "lngs = np.random.uniform(low=-180.000, high=180.000, size=650)\n",
    "lat_lngs = zip(lats, lngs)\n",
    "#print(lats, lngs)\n",
    "\n",
    "# Identify nearest city for each lat, lng combination\n",
    "for lat_lng in lat_lngs:\n",
    "    city = citipy.nearest_city(lat_lng[0], lat_lng[1]).city_name\n",
    "    \n",
    "# If the city is unique, then add it to our cities list   \n",
    "    if city not in cities:\n",
    "        cities.append(city)\n",
    "    \n",
    "        city = city.replace(' ','%20')\n",
    "        query_url = \"http://api.openweathermap.org/data/2.5/weather?q=\" + city + \"&appid=\" + api_key + \"&units=imperial\"\n",
    "        #print(query_url)\n",
    "        \n",
    "# Loop through the list of cities and perform a request for data on each\n",
    "        response = requests.get(f'{query_url}').json()\n",
    "        #print(response)\n",
    "\n",
    "# Skip Keyerrors so that program will run even if there is no city or other \n",
    "        try:\n",
    "            wind_speed.append(response['wind']['speed'])\n",
    "            wind_speed\n",
    "        \n",
    "            latitude.append(response['coord']['lat'])\n",
    "            latitude\n",
    "\n",
    "            longitude.append(response['coord']['lon'])\n",
    "            longitude\n",
    "\n",
    "            city_name.append(response['name'])\n",
    "            city\n",
    "\n",
    "            country.append(response['sys']['country'])\n",
    "            country\n",
    "\n",
    "            temp_max.append(response['main']['temp_max'])\n",
    "            temp_max\n",
    "\n",
    "            humidity.append(response['main']['humidity'])\n",
    "            humidity\n",
    "\n",
    "            clouds.append(response['clouds']['all'])\n",
    "            clouds\n",
    "\n",
    "            time.sleep(1.01)\n",
    "\n",
    "\n",
    "        except KeyError:\n",
    "            print(\"This location is not a city.\")\n",
    "               \n",
    "# Print the city count to confirm sufficient count\n",
    "len(cities)       \n"
   ]
  },
  {
   "cell_type": "markdown",
   "metadata": {},
   "source": [
    "### Perform API Calls\n",
    "* Perform a weather check on each city using a series of successive API calls.\n",
    "* Include a print log of each city as it'sbeing processed (with the city number and city name).\n"
   ]
  },
  {
   "cell_type": "code",
   "execution_count": 32,
   "metadata": {
    "scrolled": true
   },
   "outputs": [
    {
     "data": {
      "text/html": [
       "<div>\n",
       "<style scoped>\n",
       "    .dataframe tbody tr th:only-of-type {\n",
       "        vertical-align: middle;\n",
       "    }\n",
       "\n",
       "    .dataframe tbody tr th {\n",
       "        vertical-align: top;\n",
       "    }\n",
       "\n",
       "    .dataframe thead th {\n",
       "        text-align: right;\n",
       "    }\n",
       "</style>\n",
       "<table border=\"1\" class=\"dataframe\">\n",
       "  <thead>\n",
       "    <tr style=\"text-align: right;\">\n",
       "      <th></th>\n",
       "      <th>Max Temperature</th>\n",
       "      <th>Humidity</th>\n",
       "      <th>Cloudiness</th>\n",
       "      <th>Wind Speed</th>\n",
       "      <th>City Name</th>\n",
       "      <th>Country</th>\n",
       "      <th>Latitude</th>\n",
       "      <th>Longitude</th>\n",
       "    </tr>\n",
       "  </thead>\n",
       "  <tbody>\n",
       "    <tr>\n",
       "      <td>307</td>\n",
       "      <td>75.27</td>\n",
       "      <td>85</td>\n",
       "      <td>82</td>\n",
       "      <td>3.80</td>\n",
       "      <td>Mbuji-Mayi</td>\n",
       "      <td>CD</td>\n",
       "      <td>-6.13</td>\n",
       "      <td>23.60</td>\n",
       "    </tr>\n",
       "    <tr>\n",
       "      <td>308</td>\n",
       "      <td>-6.02</td>\n",
       "      <td>96</td>\n",
       "      <td>41</td>\n",
       "      <td>3.42</td>\n",
       "      <td>Srednekolymsk</td>\n",
       "      <td>RU</td>\n",
       "      <td>67.46</td>\n",
       "      <td>153.71</td>\n",
       "    </tr>\n",
       "    <tr>\n",
       "      <td>309</td>\n",
       "      <td>52.23</td>\n",
       "      <td>75</td>\n",
       "      <td>18</td>\n",
       "      <td>3.13</td>\n",
       "      <td>Mar del Plata</td>\n",
       "      <td>AR</td>\n",
       "      <td>-46.43</td>\n",
       "      <td>-67.52</td>\n",
       "    </tr>\n",
       "    <tr>\n",
       "      <td>310</td>\n",
       "      <td>74.39</td>\n",
       "      <td>26</td>\n",
       "      <td>2</td>\n",
       "      <td>13.02</td>\n",
       "      <td>Birao</td>\n",
       "      <td>CF</td>\n",
       "      <td>10.30</td>\n",
       "      <td>22.78</td>\n",
       "    </tr>\n",
       "    <tr>\n",
       "      <td>311</td>\n",
       "      <td>47.75</td>\n",
       "      <td>84</td>\n",
       "      <td>100</td>\n",
       "      <td>5.08</td>\n",
       "      <td>Polican</td>\n",
       "      <td>AL</td>\n",
       "      <td>40.61</td>\n",
       "      <td>20.10</td>\n",
       "    </tr>\n",
       "  </tbody>\n",
       "</table>\n",
       "</div>"
      ],
      "text/plain": [
       "     Max Temperature  Humidity  Cloudiness  Wind Speed      City Name Country  \\\n",
       "307            75.27        85          82        3.80     Mbuji-Mayi      CD   \n",
       "308            -6.02        96          41        3.42  Srednekolymsk      RU   \n",
       "309            52.23        75          18        3.13  Mar del Plata      AR   \n",
       "310            74.39        26           2       13.02          Birao      CF   \n",
       "311            47.75        84         100        5.08        Polican      AL   \n",
       "\n",
       "     Latitude  Longitude  \n",
       "307     -6.13      23.60  \n",
       "308     67.46     153.71  \n",
       "309    -46.43     -67.52  \n",
       "310     10.30      22.78  \n",
       "311     40.61      20.10  "
      ]
     },
     "execution_count": 32,
     "metadata": {},
     "output_type": "execute_result"
    }
   ],
   "source": [
    "### Convert Raw Data to DataFrame\n",
    "weather_data = {'Max Temperature': temp_max, 'Humidity': humidity, 'Cloudiness': clouds, 'Wind Speed': wind_speed, 'City Name': city_name, 'Country': country, 'Latitude': latitude, 'Longitude': longitude}\n",
    "weather_data_df = pd.DataFrame(weather_data)\n",
    "\n",
    "# Export the city data into a .csv.\n",
    "#weather_data_df = pd.read_csv(weather_data, encoding=\"ISO-8859-1\")\n",
    "#weather_data_df.to_csv(\"Output/.weather_df.csv\", index=False, header=True)\n",
    "weather_data_df.to_csv(\"weather_df.csv\")\n",
    "\n",
    "#Display the DataFrame\n",
    "weather_data_df.tail()"
   ]
  },
  {
   "cell_type": "markdown",
   "metadata": {},
   "source": [
    "### Plotting the Data\n",
    "* Use proper labeling of the plots using plot titles (including date of analysis) and axes labels.\n",
    "* Save the plotted figures as .pngs."
   ]
  },
  {
   "cell_type": "markdown",
   "metadata": {},
   "source": [
    "#### Latitude vs. Temperature Plot"
   ]
  },
  {
   "cell_type": "code",
   "execution_count": 33,
   "metadata": {},
   "outputs": [
    {
     "data": {
      "image/png": "[encoded data removed]",
      "text/plain": [
       "<Figure size 432x288 with 1 Axes>"
      ]
     },
     "metadata": {
      "needs_background": "light"
     },
     "output_type": "display_data"
    }
   ],
   "source": [
    "# Scatterplot 1\n",
    "plt.scatter(weather_data_df[\"Latitude\"], weather_data_df[\"Max Temperature\"], color = \"r\", marker=\"o\")\n",
    "\n",
    "plt.xlabel(\"Latitude\", fontsize=12)\n",
    "plt.ylabel(\"Max Temperature (F)\", fontsize=12)\n",
    "plt.title(\"Latitude vs. Temperature\", fontsize=14)\n",
    "plt.grid(True)\n",
    "\n",
    "#save figure to .png\n",
    "plt.savefig(\"Latitude_vs_Temperature.png\")\n",
    "\n",
    "#Show result\n",
    "plt.show()\n"
   ]
  },
  {
   "cell_type": "markdown",
   "metadata": {},
   "source": [
    "#### Latitude vs. Humidity Plot"
   ]
  },
  {
   "cell_type": "code",
   "execution_count": 34,
   "metadata": {},
   "outputs": [
    {
     "data": {
      "image/png": "[encoded data removed]",
      "text/plain": [
       "<Figure size 432x288 with 1 Axes>"
      ]
     },
     "metadata": {
      "needs_background": "light"
     },
     "output_type": "display_data"
    }
   ],
   "source": [
    "plt.scatter(weather_data_df[\"Latitude\"], weather_data_df[\"Humidity\"], color = \"g\", marker=\"o\")\n",
    "\n",
    "plt.xlabel(\"Latitude\", fontsize=12)\n",
    "plt.ylabel(\"Humidity\", fontsize=12)\n",
    "plt.title(\"Latitude vs. Humidity\", fontsize=14)\n",
    "plt.grid(True)\n",
    "plt.savefig(\"lat_vs_hum.png\")\n",
    "plt.show()\n"
   ]
  },
  {
   "cell_type": "markdown",
   "metadata": {},
   "source": [
    "#### Latitude vs. Cloudiness Plot"
   ]
  },
  {
   "cell_type": "code",
   "execution_count": 35,
   "metadata": {},
   "outputs": [
    {
     "data": {
      "image/png": "[encoded data removed]",
      "text/plain": [
       "<Figure size 432x288 with 1 Axes>"
      ]
     },
     "metadata": {
      "needs_background": "light"
     },
     "output_type": "display_data"
    }
   ],
   "source": [
    "plt.scatter(weather_data_df[\"Latitude\"], weather_data_df[\"Cloudiness\"], color = \"y\", marker=\"o\")\n",
    "\n",
    "plt.xlabel(\"Latitude\", fontsize=12)\n",
    "plt.ylabel(\"Cloudiness\", fontsize=12)\n",
    "plt.title(\"Latitude vs. Cloudiness\", fontsize=14)\n",
    "plt.grid(True)\n",
    "plt.savefig(\"lat_vs_cloud.png\")\n",
    "plt.show()\n"
   ]
  },
  {
   "cell_type": "markdown",
   "metadata": {},
   "source": [
    "#### Latitude vs. Wind Speed Plot"
   ]
  },
  {
   "cell_type": "code",
   "execution_count": 36,
   "metadata": {},
   "outputs": [
    {
     "data": {
      "image/png": "[encoded data removed]",
      "text/plain": [
       "<Figure size 432x288 with 1 Axes>"
      ]
     },
     "metadata": {
      "needs_background": "light"
     },
     "output_type": "display_data"
    }
   ],
   "source": [
    "plt.scatter(weather_data_df[\"Latitude\"], weather_data_df[\"Wind Speed\"], color = \"b\", marker=\"o\")\n",
    "\n",
    "plt.xlabel(\"Latitude\", fontsize=12)\n",
    "plt.ylabel(\"Wind Speed\", fontsize=12)\n",
    "plt.title(\"Latitude vs. Wind Speed\", fontsize=14)\n",
    "plt.grid(True)\n",
    "plt.savefig(\"lat_vs_wind.png\")\n",
    "plt.show()\n"
   ]
  },
  {
   "cell_type": "code",
   "execution_count": null,
   "metadata": {},
   "outputs": [],
   "source": []
  }
 ],
 "metadata": {
  "anaconda-cloud": {},
  "kernel_info": {
   "name": "python3"
  },
  "kernelspec": {
   "display_name": "Python 3",
   "language": "python",
   "name": "python3"
  },
  "language_info": {
   "codemirror_mode": {
    "name": "ipython",
    "version": 3
   },
   "file_extension": ".py",
   "mimetype": "text/x-python",
   "name": "python",
   "nbconvert_exporter": "python",
   "pygments_lexer": "ipython3",
   "version": "3.6.9"
  },
  "nteract": {
   "version": "0.12.3"
  }
 },
 "nbformat": 4,
 "nbformat_minor": 2
}
